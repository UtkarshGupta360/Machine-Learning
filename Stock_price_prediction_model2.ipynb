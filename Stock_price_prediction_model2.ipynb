{
  "cells": [
    {
      "cell_type": "code",
      "execution_count": null,
      "metadata": {
        "id": "mE8qFG9vqGcv"
      },
      "outputs": [],
      "source": [
        "import numpy as np \n",
        "import pandas as pd \n",
        "import matplotlib.pyplot as plt \n",
        "from sklearn.preprocessing import MinMaxScaler\n",
        "from keras.models import Sequential\n",
        "from keras.layers import Dense,LSTM,Dropout"
      ]
    },
    {
      "cell_type": "code",
      "execution_count": null,
      "metadata": {
        "colab": {
          "base_uri": "https://localhost:8080/",
          "height": 206
        },
        "id": "cM-cmJm5qGcz",
        "outputId": "0fe606e6-6697-4904-97d8-a33df3235363"
      },
      "outputs": [
        {
          "output_type": "execute_result",
          "data": {
            "text/plain": [
              "       Date    Open    High     Low   Close      Volume\n",
              "0  1/3/2012  325.25  332.83  324.97  663.59   7,380,500\n",
              "1  1/4/2012  331.27  333.87  329.08  666.45   5,749,400\n",
              "2  1/5/2012  329.83  330.75  326.89  657.21   6,590,300\n",
              "3  1/6/2012  328.34  328.77  323.68  648.24   5,405,900\n",
              "4  1/9/2012  322.04  322.29  309.46  620.76  11,688,800"
            ],
            "text/html": [
              "\n",
              "  <div id=\"df-3fb4110b-951a-4801-8d27-889263500789\">\n",
              "    <div class=\"colab-df-container\">\n",
              "      <div>\n",
              "<style scoped>\n",
              "    .dataframe tbody tr th:only-of-type {\n",
              "        vertical-align: middle;\n",
              "    }\n",
              "\n",
              "    .dataframe tbody tr th {\n",
              "        vertical-align: top;\n",
              "    }\n",
              "\n",
              "    .dataframe thead th {\n",
              "        text-align: right;\n",
              "    }\n",
              "</style>\n",
              "<table border=\"1\" class=\"dataframe\">\n",
              "  <thead>\n",
              "    <tr style=\"text-align: right;\">\n",
              "      <th></th>\n",
              "      <th>Date</th>\n",
              "      <th>Open</th>\n",
              "      <th>High</th>\n",
              "      <th>Low</th>\n",
              "      <th>Close</th>\n",
              "      <th>Volume</th>\n",
              "    </tr>\n",
              "  </thead>\n",
              "  <tbody>\n",
              "    <tr>\n",
              "      <th>0</th>\n",
              "      <td>1/3/2012</td>\n",
              "      <td>325.25</td>\n",
              "      <td>332.83</td>\n",
              "      <td>324.97</td>\n",
              "      <td>663.59</td>\n",
              "      <td>7,380,500</td>\n",
              "    </tr>\n",
              "    <tr>\n",
              "      <th>1</th>\n",
              "      <td>1/4/2012</td>\n",
              "      <td>331.27</td>\n",
              "      <td>333.87</td>\n",
              "      <td>329.08</td>\n",
              "      <td>666.45</td>\n",
              "      <td>5,749,400</td>\n",
              "    </tr>\n",
              "    <tr>\n",
              "      <th>2</th>\n",
              "      <td>1/5/2012</td>\n",
              "      <td>329.83</td>\n",
              "      <td>330.75</td>\n",
              "      <td>326.89</td>\n",
              "      <td>657.21</td>\n",
              "      <td>6,590,300</td>\n",
              "    </tr>\n",
              "    <tr>\n",
              "      <th>3</th>\n",
              "      <td>1/6/2012</td>\n",
              "      <td>328.34</td>\n",
              "      <td>328.77</td>\n",
              "      <td>323.68</td>\n",
              "      <td>648.24</td>\n",
              "      <td>5,405,900</td>\n",
              "    </tr>\n",
              "    <tr>\n",
              "      <th>4</th>\n",
              "      <td>1/9/2012</td>\n",
              "      <td>322.04</td>\n",
              "      <td>322.29</td>\n",
              "      <td>309.46</td>\n",
              "      <td>620.76</td>\n",
              "      <td>11,688,800</td>\n",
              "    </tr>\n",
              "  </tbody>\n",
              "</table>\n",
              "</div>\n",
              "      <button class=\"colab-df-convert\" onclick=\"convertToInteractive('df-3fb4110b-951a-4801-8d27-889263500789')\"\n",
              "              title=\"Convert this dataframe to an interactive table.\"\n",
              "              style=\"display:none;\">\n",
              "        \n",
              "  <svg xmlns=\"http://www.w3.org/2000/svg\" height=\"24px\"viewBox=\"0 0 24 24\"\n",
              "       width=\"24px\">\n",
              "    <path d=\"M0 0h24v24H0V0z\" fill=\"none\"/>\n",
              "    <path d=\"M18.56 5.44l.94 2.06.94-2.06 2.06-.94-2.06-.94-.94-2.06-.94 2.06-2.06.94zm-11 1L8.5 8.5l.94-2.06 2.06-.94-2.06-.94L8.5 2.5l-.94 2.06-2.06.94zm10 10l.94 2.06.94-2.06 2.06-.94-2.06-.94-.94-2.06-.94 2.06-2.06.94z\"/><path d=\"M17.41 7.96l-1.37-1.37c-.4-.4-.92-.59-1.43-.59-.52 0-1.04.2-1.43.59L10.3 9.45l-7.72 7.72c-.78.78-.78 2.05 0 2.83L4 21.41c.39.39.9.59 1.41.59.51 0 1.02-.2 1.41-.59l7.78-7.78 2.81-2.81c.8-.78.8-2.07 0-2.86zM5.41 20L4 18.59l7.72-7.72 1.47 1.35L5.41 20z\"/>\n",
              "  </svg>\n",
              "      </button>\n",
              "      \n",
              "  <style>\n",
              "    .colab-df-container {\n",
              "      display:flex;\n",
              "      flex-wrap:wrap;\n",
              "      gap: 12px;\n",
              "    }\n",
              "\n",
              "    .colab-df-convert {\n",
              "      background-color: #E8F0FE;\n",
              "      border: none;\n",
              "      border-radius: 50%;\n",
              "      cursor: pointer;\n",
              "      display: none;\n",
              "      fill: #1967D2;\n",
              "      height: 32px;\n",
              "      padding: 0 0 0 0;\n",
              "      width: 32px;\n",
              "    }\n",
              "\n",
              "    .colab-df-convert:hover {\n",
              "      background-color: #E2EBFA;\n",
              "      box-shadow: 0px 1px 2px rgba(60, 64, 67, 0.3), 0px 1px 3px 1px rgba(60, 64, 67, 0.15);\n",
              "      fill: #174EA6;\n",
              "    }\n",
              "\n",
              "    [theme=dark] .colab-df-convert {\n",
              "      background-color: #3B4455;\n",
              "      fill: #D2E3FC;\n",
              "    }\n",
              "\n",
              "    [theme=dark] .colab-df-convert:hover {\n",
              "      background-color: #434B5C;\n",
              "      box-shadow: 0px 1px 3px 1px rgba(0, 0, 0, 0.15);\n",
              "      filter: drop-shadow(0px 1px 2px rgba(0, 0, 0, 0.3));\n",
              "      fill: #FFFFFF;\n",
              "    }\n",
              "  </style>\n",
              "\n",
              "      <script>\n",
              "        const buttonEl =\n",
              "          document.querySelector('#df-3fb4110b-951a-4801-8d27-889263500789 button.colab-df-convert');\n",
              "        buttonEl.style.display =\n",
              "          google.colab.kernel.accessAllowed ? 'block' : 'none';\n",
              "\n",
              "        async function convertToInteractive(key) {\n",
              "          const element = document.querySelector('#df-3fb4110b-951a-4801-8d27-889263500789');\n",
              "          const dataTable =\n",
              "            await google.colab.kernel.invokeFunction('convertToInteractive',\n",
              "                                                     [key], {});\n",
              "          if (!dataTable) return;\n",
              "\n",
              "          const docLinkHtml = 'Like what you see? Visit the ' +\n",
              "            '<a target=\"_blank\" href=https://colab.research.google.com/notebooks/data_table.ipynb>data table notebook</a>'\n",
              "            + ' to learn more about interactive tables.';\n",
              "          element.innerHTML = '';\n",
              "          dataTable['output_type'] = 'display_data';\n",
              "          await google.colab.output.renderOutput(dataTable, element);\n",
              "          const docLink = document.createElement('div');\n",
              "          docLink.innerHTML = docLinkHtml;\n",
              "          element.appendChild(docLink);\n",
              "        }\n",
              "      </script>\n",
              "    </div>\n",
              "  </div>\n",
              "  "
            ]
          },
          "metadata": {},
          "execution_count": 3
        }
      ],
      "source": [
        "data = pd.read_csv('/content/drive/MyDrive/Colab Notebooks/Google_train_data.csv')\n",
        "data.head()"
      ]
    },
    {
      "cell_type": "code",
      "execution_count": null,
      "metadata": {
        "colab": {
          "base_uri": "https://localhost:8080/"
        },
        "id": "tFYilTzlqGc0",
        "outputId": "b11ae48e-fedb-4804-e75a-5628742bfe35"
      },
      "outputs": [
        {
          "output_type": "stream",
          "name": "stdout",
          "text": [
            "<class 'pandas.core.frame.DataFrame'>\n",
            "RangeIndex: 1258 entries, 0 to 1257\n",
            "Data columns (total 6 columns):\n",
            " #   Column  Non-Null Count  Dtype  \n",
            "---  ------  --------------  -----  \n",
            " 0   Date    1258 non-null   object \n",
            " 1   Open    1258 non-null   float64\n",
            " 2   High    1258 non-null   float64\n",
            " 3   Low     1258 non-null   float64\n",
            " 4   Close   1258 non-null   object \n",
            " 5   Volume  1258 non-null   object \n",
            "dtypes: float64(3), object(3)\n",
            "memory usage: 59.1+ KB\n"
          ]
        }
      ],
      "source": [
        "data.info()"
      ]
    },
    {
      "cell_type": "code",
      "execution_count": null,
      "metadata": {
        "id": "EQlD6GGEqGc1"
      },
      "outputs": [],
      "source": [
        "data[\"Close\"]=pd.to_numeric(data.Close,errors='coerce')\n",
        "data = data.dropna()\n",
        "trainData = data.iloc[:,4:5].values"
      ]
    },
    {
      "cell_type": "code",
      "execution_count": null,
      "metadata": {
        "colab": {
          "base_uri": "https://localhost:8080/"
        },
        "id": "O3L8Zt66qGc1",
        "outputId": "52a6c562-8597-4893-ee4d-a11c36eefbe5"
      },
      "outputs": [
        {
          "output_type": "stream",
          "name": "stdout",
          "text": [
            "<class 'pandas.core.frame.DataFrame'>\n",
            "Int64Index: 1149 entries, 0 to 1257\n",
            "Data columns (total 6 columns):\n",
            " #   Column  Non-Null Count  Dtype  \n",
            "---  ------  --------------  -----  \n",
            " 0   Date    1149 non-null   object \n",
            " 1   Open    1149 non-null   float64\n",
            " 2   High    1149 non-null   float64\n",
            " 3   Low     1149 non-null   float64\n",
            " 4   Close   1149 non-null   float64\n",
            " 5   Volume  1149 non-null   object \n",
            "dtypes: float64(4), object(2)\n",
            "memory usage: 62.8+ KB\n"
          ]
        }
      ],
      "source": [
        "data.info()"
      ]
    },
    {
      "cell_type": "code",
      "execution_count": null,
      "metadata": {
        "colab": {
          "base_uri": "https://localhost:8080/"
        },
        "id": "YkC-iss9qGc2",
        "outputId": "e4d24c4d-f23e-4aeb-ad2c-b725e8636c0e"
      },
      "outputs": [
        {
          "output_type": "execute_result",
          "data": {
            "text/plain": [
              "(1149, 1)"
            ]
          },
          "metadata": {},
          "execution_count": 7
        }
      ],
      "source": [
        "sc = MinMaxScaler(feature_range=(0,1))\n",
        "trainData = sc.fit_transform(trainData)\n",
        "trainData.shape"
      ]
    },
    {
      "cell_type": "code",
      "execution_count": null,
      "metadata": {
        "id": "_57Gv9NZqGc3"
      },
      "outputs": [],
      "source": [
        "X_train = []\n",
        "y_train = []\n",
        "\n",
        "for i in range (60,1149): #60 : timestep // 1149 : length of the data\n",
        "    X_train.append(trainData[i-60:i,0]) \n",
        "    y_train.append(trainData[i,0])\n",
        "\n",
        "X_train,y_train = np.array(X_train),np.array(y_train)"
      ]
    },
    {
      "cell_type": "code",
      "execution_count": null,
      "metadata": {
        "colab": {
          "base_uri": "https://localhost:8080/"
        },
        "id": "dwdpHcw5qGc4",
        "outputId": "feac9d3a-f1c5-499f-a65a-cb47873eafe6"
      },
      "outputs": [
        {
          "output_type": "execute_result",
          "data": {
            "text/plain": [
              "(1089, 60, 1)"
            ]
          },
          "metadata": {},
          "execution_count": 9
        }
      ],
      "source": [
        "X_train = np.reshape(X_train,(X_train.shape[0],X_train.shape[1],1)) #adding the batch_size axis\n",
        "X_train.shape"
      ]
    },
    {
      "cell_type": "code",
      "execution_count": null,
      "metadata": {
        "id": "1lgTIVM8qGc4"
      },
      "outputs": [],
      "source": [
        "model = Sequential()\n",
        "\n",
        "model.add(LSTM(units=100, return_sequences = True, input_shape =(X_train.shape[1],1)))\n",
        "model.add(Dropout(0.2))\n",
        "\n",
        "model.add(LSTM(units=100, return_sequences = True))\n",
        "model.add(Dropout(0.2))\n",
        "\n",
        "model.add(LSTM(units=100, return_sequences = True))\n",
        "model.add(Dropout(0.2))\n",
        "\n",
        "model.add(LSTM(units=100, return_sequences = False))\n",
        "model.add(Dropout(0.2))\n",
        "\n",
        "model.add(Dense(units =1))\n",
        "model.compile(optimizer='adam',loss=\"mean_squared_error\")"
      ]
    },
    {
      "cell_type": "code",
      "execution_count": null,
      "metadata": {
        "colab": {
          "base_uri": "https://localhost:8080/"
        },
        "id": "naB6tIHAqGc5",
        "outputId": "adc07d57-48b6-482e-8ae4-09d20ee119c8"
      },
      "outputs": [
        {
          "output_type": "stream",
          "name": "stdout",
          "text": [
            "Epoch 1/20\n",
            "35/35 - 13s - loss: 0.0403 - 13s/epoch - 380ms/step\n",
            "Epoch 2/20\n",
            "35/35 - 6s - loss: 0.0115 - 6s/epoch - 174ms/step\n",
            "Epoch 3/20\n",
            "35/35 - 6s - loss: 0.0113 - 6s/epoch - 175ms/step\n",
            "Epoch 4/20\n",
            "35/35 - 6s - loss: 0.0092 - 6s/epoch - 173ms/step\n",
            "Epoch 5/20\n",
            "35/35 - 7s - loss: 0.0100 - 7s/epoch - 204ms/step\n",
            "Epoch 6/20\n",
            "35/35 - 6s - loss: 0.0068 - 6s/epoch - 172ms/step\n",
            "Epoch 7/20\n",
            "35/35 - 6s - loss: 0.0078 - 6s/epoch - 174ms/step\n",
            "Epoch 8/20\n",
            "35/35 - 6s - loss: 0.0070 - 6s/epoch - 174ms/step\n",
            "Epoch 9/20\n",
            "35/35 - 6s - loss: 0.0067 - 6s/epoch - 173ms/step\n",
            "Epoch 10/20\n",
            "35/35 - 6s - loss: 0.0074 - 6s/epoch - 175ms/step\n",
            "Epoch 11/20\n",
            "35/35 - 6s - loss: 0.0069 - 6s/epoch - 175ms/step\n",
            "Epoch 12/20\n",
            "35/35 - 7s - loss: 0.0064 - 7s/epoch - 193ms/step\n",
            "Epoch 13/20\n",
            "35/35 - 6s - loss: 0.0068 - 6s/epoch - 174ms/step\n",
            "Epoch 14/20\n",
            "35/35 - 6s - loss: 0.0058 - 6s/epoch - 175ms/step\n",
            "Epoch 15/20\n",
            "35/35 - 6s - loss: 0.0051 - 6s/epoch - 175ms/step\n",
            "Epoch 16/20\n",
            "35/35 - 6s - loss: 0.0048 - 6s/epoch - 174ms/step\n",
            "Epoch 17/20\n",
            "35/35 - 6s - loss: 0.0048 - 6s/epoch - 173ms/step\n",
            "Epoch 18/20\n",
            "35/35 - 6s - loss: 0.0062 - 6s/epoch - 174ms/step\n",
            "Epoch 19/20\n",
            "35/35 - 6s - loss: 0.0046 - 6s/epoch - 175ms/step\n",
            "Epoch 20/20\n",
            "35/35 - 6s - loss: 0.0045 - 6s/epoch - 173ms/step\n"
          ]
        }
      ],
      "source": [
        "hist = model.fit(X_train, y_train, epochs = 20, batch_size = 32, verbose=2)"
      ]
    },
    {
      "cell_type": "code",
      "execution_count": null,
      "metadata": {
        "colab": {
          "base_uri": "https://localhost:8080/"
        },
        "id": "A0a9d5JKqGc6",
        "outputId": "33cd3c7a-9fe4-4bd8-883a-a857ef2f979a"
      },
      "outputs": [
        {
          "output_type": "display_data",
          "data": {
            "text/plain": [
              "<Figure size 432x288 with 1 Axes>"
            ],
            "image/png": "[encoded data removed]"
          },
          "metadata": {
            "needs_background": "light"
          }
        }
      ],
      "source": [
        "plt.plot(hist.history['loss'])\n",
        "plt.title('Training model loss')\n",
        "plt.ylabel('loss')\n",
        "plt.xlabel('epoch')\n",
        "plt.legend(['train'], loc='upper left')\n",
        "plt.show()"
      ]
    },
    {
      "cell_type": "code",
      "execution_count": null,
      "metadata": {
        "colab": {
          "base_uri": "https://localhost:8080/"
        },
        "id": "gbkq1BkSqGc6",
        "outputId": "ebd7484e-6009-442a-cdc7-78a87eac996e"
      },
      "outputs": [
        {
          "output_type": "execute_result",
          "data": {
            "text/plain": [
              "(192, 60, 1)"
            ]
          },
          "metadata": {},
          "execution_count": 13
        }
      ],
      "source": [
        "testData = pd.read_csv('/content/drive/MyDrive/Colab Notebooks/Google_test_data.csv')\n",
        "testData[\"Close\"]=pd.to_numeric(testData.Close,errors='coerce')\n",
        "testData = testData.dropna()\n",
        "testData = testData.iloc[:,4:5]\n",
        "y_test = testData.iloc[60:,0:].values \n",
        "#input array for the model\n",
        "inputClosing = testData.iloc[:,0:].values \n",
        "inputClosing_scaled = sc.transform(inputClosing)\n",
        "inputClosing_scaled.shape\n",
        "X_test = []\n",
        "length = len(testData)\n",
        "timestep = 60\n",
        "for i in range(timestep,length):  \n",
        "    X_test.append(inputClosing_scaled[i-timestep:i,0])\n",
        "X_test = np.array(X_test)\n",
        "X_test = np.reshape(X_test,(X_test.shape[0],X_test.shape[1],1))\n",
        "X_test.shape"
      ]
    },
    {
      "cell_type": "code",
      "source": [
        "from google.colab import drive\n",
        "drive.mount('/content/drive')"
      ],
      "metadata": {
        "colab": {
          "base_uri": "https://localhost:8080/"
        },
        "id": "VwbL_AhcqqGA",
        "outputId": "a2329024-fe19-4a7a-ed95-41f6421d0072"
      },
      "execution_count": null,
      "outputs": [
        {
          "output_type": "stream",
          "name": "stdout",
          "text": [
            "Drive already mounted at /content/drive; to attempt to forcibly remount, call drive.mount(\"/content/drive\", force_remount=True).\n"
          ]
        }
      ]
    },
    {
      "cell_type": "code",
      "execution_count": null,
      "metadata": {
        "colab": {
          "base_uri": "https://localhost:8080/"
        },
        "id": "nEUhRDHwqGc7",
        "outputId": "9e842133-fed4-4249-90dd-1ff4c2438290"
      },
      "outputs": [
        {
          "output_type": "execute_result",
          "data": {
            "text/plain": [
              "array([[1.1375942],\n",
              "       [1.1413765],\n",
              "       [1.1538755],\n",
              "       [1.1722527],\n",
              "       [1.1875837],\n",
              "       [1.1893843],\n",
              "       [1.1776581],\n",
              "       [1.1601056],\n",
              "       [1.1481247],\n",
              "       [1.1443377],\n",
              "       [1.1374642],\n",
              "       [1.12632  ],\n",
              "       [1.1161767],\n",
              "       [1.106848 ],\n",
              "       [1.1046557],\n",
              "       [1.109183 ],\n",
              "       [1.1272691],\n",
              "       [1.1560826],\n",
              "       [1.189434 ],\n",
              "       [1.2228091],\n",
              "       [1.2375785],\n",
              "       [1.2356217],\n",
              "       [1.2156912],\n",
              "       [1.1858077],\n",
              "       [1.1577967],\n",
              "       [1.1406294],\n",
              "       [1.1351141],\n",
              "       [1.1335946],\n",
              "       [1.1262839],\n",
              "       [1.1154982],\n",
              "       [1.1036083],\n",
              "       [1.0902113],\n",
              "       [1.0704086],\n",
              "       [1.0459151],\n",
              "       [1.0356474],\n",
              "       [1.0449331],\n",
              "       [1.0672793],\n",
              "       [1.0935285],\n",
              "       [1.1189452],\n",
              "       [1.1331018],\n",
              "       [1.1467428],\n",
              "       [1.1624554],\n",
              "       [1.180242 ],\n",
              "       [1.1967108],\n",
              "       [1.2078483],\n",
              "       [1.2092811],\n",
              "       [1.1991756],\n",
              "       [1.1892029],\n",
              "       [1.1852303],\n",
              "       [1.1894605],\n",
              "       [1.2011852],\n",
              "       [1.209548 ],\n",
              "       [1.2119035],\n",
              "       [1.2087834],\n",
              "       [1.2066344],\n",
              "       [1.202484 ],\n",
              "       [1.1938086],\n",
              "       [1.188921 ],\n",
              "       [1.1966971],\n",
              "       [1.2138628],\n",
              "       [1.2393345],\n",
              "       [1.2703675],\n",
              "       [1.292883 ],\n",
              "       [1.2978531],\n",
              "       [1.2866138],\n",
              "       [1.2662395],\n",
              "       [1.2507055],\n",
              "       [1.2441366],\n",
              "       [1.2455959],\n",
              "       [1.2497019],\n",
              "       [1.2544819],\n",
              "       [1.2574682],\n",
              "       [1.2539666],\n",
              "       [1.2483605],\n",
              "       [1.2433572],\n",
              "       [1.2416083],\n",
              "       [1.2433048],\n",
              "       [1.248099 ],\n",
              "       [1.259562 ],\n",
              "       [1.2771413],\n",
              "       [1.3000418],\n",
              "       [1.3223466],\n",
              "       [1.3356801],\n",
              "       [1.338287 ],\n",
              "       [1.3414223],\n",
              "       [1.3523899],\n",
              "       [1.3689699],\n",
              "       [1.3837848],\n",
              "       [1.3924986],\n",
              "       [1.3944263],\n",
              "       [1.3950448],\n",
              "       [1.4027392],\n",
              "       [1.4181786],\n",
              "       [1.4292443],\n",
              "       [1.4284434],\n",
              "       [1.4153354],\n",
              "       [1.3925093],\n",
              "       [1.3656352],\n",
              "       [1.3423558],\n",
              "       [1.3322285],\n",
              "       [1.336585 ],\n",
              "       [1.3518282],\n",
              "       [1.3737665],\n",
              "       [1.394163 ],\n",
              "       [1.4076915],\n",
              "       [1.4117556],\n",
              "       [1.4097046],\n",
              "       [1.4054968],\n",
              "       [1.4049464],\n",
              "       [1.4091839],\n",
              "       [1.4176611],\n",
              "       [1.4299092],\n",
              "       [1.4426929],\n",
              "       [1.4563975],\n",
              "       [1.4731194],\n",
              "       [1.4874758],\n",
              "       [1.498452 ],\n",
              "       [1.5075437],\n",
              "       [1.5184988],\n",
              "       [1.5014966],\n",
              "       [1.4544137],\n",
              "       [1.3924536],\n",
              "       [1.3397037],\n",
              "       [1.3077422],\n",
              "       [1.2929462],\n",
              "       [1.2885352],\n",
              "       [1.2892413],\n",
              "       [1.2931373],\n",
              "       [1.2906102],\n",
              "       [1.2788651],\n",
              "       [1.2736847],\n",
              "       [1.2830555],\n",
              "       [1.2994925],\n",
              "       [1.310161 ],\n",
              "       [1.3146596],\n",
              "       [1.3153915],\n",
              "       [1.3117654],\n",
              "       [1.3036057],\n",
              "       [1.2935568],\n",
              "       [1.2798222],\n",
              "       [1.2651029],\n",
              "       [1.2488822],\n",
              "       [1.216596 ],\n",
              "       [1.1770291],\n",
              "       [1.138036 ],\n",
              "       [1.1072924],\n",
              "       [1.0936147],\n",
              "       [1.1000829],\n",
              "       [1.1209377],\n",
              "       [1.1474122],\n",
              "       [1.1750822],\n",
              "       [1.198842 ],\n",
              "       [1.2175683],\n",
              "       [1.2332658],\n",
              "       [1.2454926],\n",
              "       [1.2557424],\n",
              "       [1.2662516],\n",
              "       [1.2745396],\n",
              "       [1.2718184],\n",
              "       [1.2570883],\n",
              "       [1.234645 ],\n",
              "       [1.2120727],\n",
              "       [1.1984648],\n",
              "       [1.198604 ],\n",
              "       [1.2120645],\n",
              "       [1.2352865],\n",
              "       [1.2575387],\n",
              "       [1.2750484],\n",
              "       [1.2902069],\n",
              "       [1.303773 ],\n",
              "       [1.3147895],\n",
              "       [1.3234627],\n",
              "       [1.3300526],\n",
              "       [1.3322781],\n",
              "       [1.330178 ],\n",
              "       [1.320954 ],\n",
              "       [1.3089799],\n",
              "       [1.2999402],\n",
              "       [1.2933855],\n",
              "       [1.2874403],\n",
              "       [1.3121914],\n",
              "       [1.3617367],\n",
              "       [1.4150995],\n",
              "       [1.4546833],\n",
              "       [1.4726117],\n",
              "       [1.4675614],\n",
              "       [1.4359889],\n",
              "       [1.3945066],\n",
              "       [1.357258 ],\n",
              "       [1.33938  ],\n",
              "       [1.3362304],\n",
              "       [1.337956 ]], dtype=float32)"
            ]
          },
          "metadata": {},
          "execution_count": 15
        }
      ],
      "source": [
        "y_pred = model.predict(X_test)\n",
        "y_pred"
      ]
    },
    {
      "cell_type": "code",
      "execution_count": null,
      "metadata": {
        "id": "b_wRX9IbqGc7"
      },
      "outputs": [],
      "source": [
        "predicted_price = sc.inverse_transform(y_pred)"
      ]
    },
    {
      "cell_type": "code",
      "execution_count": null,
      "metadata": {
        "colab": {
          "base_uri": "https://localhost:8080/",
          "height": 54
        },
        "id": "cTBsi44QqGc8",
        "outputId": "c53480fe-ada0-4339-a339-f1541c230ab2"
      },
      "outputs": [
        {
          "output_type": "display_data",
          "data": {
            "text/plain": [
              "<Figure size 432x288 with 1 Axes>"
            ],
            "image/png": "[encoded data removed]"
          },
          "metadata": {
            "needs_background": "light"
          }
        }
      ],
      "source": [
        "plt.plot(y_test, color = 'red', label = 'Actual Stock Price')\n",
        "plt.plot(predicted_price, color = 'green', label = 'Predicted Stock Price')\n",
        "plt.title('Google stock price prediction')\n",
        "plt.xlabel('Time')\n",
        "plt.ylabel('Stock Price')\n",
        "plt.legend()\n",
        "plt.show()"
      ]
    },
    {
      "cell_type": "code",
      "execution_count": null,
      "metadata": {
        "id": "MAMlnOnoqGc8"
      },
      "outputs": [],
      "source": [
        ""
      ]
    }
  ],
  "metadata": {
    "kernelspec": {
      "display_name": "Python 3",
      "language": "python",
      "name": "python3"
    },
    "language_info": {
      "codemirror_mode": {
        "name": "ipython",
        "version": 3
      },
      "file_extension": ".py",
      "mimetype": "text/x-python",
      "name": "python",
      "nbconvert_exporter": "python",
      "pygments_lexer": "ipython3",
      "version": "3.7.6"
    },
    "colab": {
      "name": "Stock price prediction model2.ipynb",
      "provenance": []
    }
  },
  "nbformat": 4,
  "nbformat_minor": 0
}